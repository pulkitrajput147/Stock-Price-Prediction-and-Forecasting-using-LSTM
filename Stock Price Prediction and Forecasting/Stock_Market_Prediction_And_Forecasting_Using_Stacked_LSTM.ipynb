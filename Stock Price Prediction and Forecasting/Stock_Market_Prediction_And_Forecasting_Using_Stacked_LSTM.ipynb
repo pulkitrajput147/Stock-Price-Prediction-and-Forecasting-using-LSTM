{
  "nbformat": 4,
  "nbformat_minor": 0,
  "metadata": {
    "colab": {
      "name": "Stock Market Prediction And Forecasting Using Stacked LSTM",
      "provenance": []
    },
    "kernelspec": {
      "name": "python3",
      "display_name": "Python 3"
    },
    "language_info": {
      "name": "python"
    },
    "accelerator": "GPU"
  },
  "cells": [
    {
      "cell_type": "code",
      "metadata": {
        "id": "P7so_-aWL5is"
      },
      "source": [
        "import pandas_datareader as pdr\n",
        "import numpy\n",
        "import os\n",
        "import math"
      ],
      "execution_count": null,
      "outputs": []
    },
    {
      "cell_type": "code",
      "metadata": {
        "id": "ozSet0xVM1P7"
      },
      "source": [
        "df=pdr.get_data_tiingo('AAPL',api_key='94c9039016045dbf8cb2082451d520c3e00cbab6')"
      ],
      "execution_count": null,
      "outputs": []
    },
    {
      "cell_type": "code",
      "metadata": {
        "id": "o66q1fT1Pot1"
      },
      "source": [
        "df.to_csv('AAPL.csv')"
      ],
      "execution_count": null,
      "outputs": []
    },
    {
      "cell_type": "code",
      "metadata": {
        "id": "-Q4PBcjZSnZY"
      },
      "source": [
        "import pandas as pd"
      ],
      "execution_count": null,
      "outputs": []
    },
    {
      "cell_type": "code",
      "metadata": {
        "id": "sxmFlwGFSuMI"
      },
      "source": [
        "df=pd.read_csv('AAPL.csv')"
      ],
      "execution_count": null,
      "outputs": []
    },
    {
      "cell_type": "code",
      "metadata": {
        "colab": {
          "base_uri": "https://localhost:8080/",
          "height": 204
        },
        "id": "_ziTtmI0Sxf7",
        "outputId": "6025b733-a270-457b-e2cd-164ad1315ddd"
      },
      "source": [
        "df.head()"
      ],
      "execution_count": null,
      "outputs": [
        {
          "output_type": "execute_result",
          "data": {
            "text/html": [
              "<div>\n",
              "<style scoped>\n",
              "    .dataframe tbody tr th:only-of-type {\n",
              "        vertical-align: middle;\n",
              "    }\n",
              "\n",
              "    .dataframe tbody tr th {\n",
              "        vertical-align: top;\n",
              "    }\n",
              "\n",
              "    .dataframe thead th {\n",
              "        text-align: right;\n",
              "    }\n",
              "</style>\n",
              "<table border=\"1\" class=\"dataframe\">\n",
              "  <thead>\n",
              "    <tr style=\"text-align: right;\">\n",
              "      <th></th>\n",
              "      <th>symbol</th>\n",
              "      <th>date</th>\n",
              "      <th>close</th>\n",
              "      <th>high</th>\n",
              "      <th>low</th>\n",
              "      <th>open</th>\n",
              "      <th>volume</th>\n",
              "      <th>adjClose</th>\n",
              "      <th>adjHigh</th>\n",
              "      <th>adjLow</th>\n",
              "      <th>adjOpen</th>\n",
              "      <th>adjVolume</th>\n",
              "      <th>divCash</th>\n",
              "      <th>splitFactor</th>\n",
              "    </tr>\n",
              "  </thead>\n",
              "  <tbody>\n",
              "    <tr>\n",
              "      <th>0</th>\n",
              "      <td>AAPL</td>\n",
              "      <td>2016-03-21 00:00:00+00:00</td>\n",
              "      <td>105.91</td>\n",
              "      <td>107.65</td>\n",
              "      <td>105.1401</td>\n",
              "      <td>105.93</td>\n",
              "      <td>35502678</td>\n",
              "      <td>24.622670</td>\n",
              "      <td>25.027197</td>\n",
              "      <td>24.443679</td>\n",
              "      <td>24.627320</td>\n",
              "      <td>142010712</td>\n",
              "      <td>0.0</td>\n",
              "      <td>1.0</td>\n",
              "    </tr>\n",
              "    <tr>\n",
              "      <th>1</th>\n",
              "      <td>AAPL</td>\n",
              "      <td>2016-03-22 00:00:00+00:00</td>\n",
              "      <td>106.72</td>\n",
              "      <td>107.29</td>\n",
              "      <td>105.2100</td>\n",
              "      <td>105.25</td>\n",
              "      <td>32444375</td>\n",
              "      <td>24.810984</td>\n",
              "      <td>24.943502</td>\n",
              "      <td>24.459930</td>\n",
              "      <td>24.469229</td>\n",
              "      <td>129777500</td>\n",
              "      <td>0.0</td>\n",
              "      <td>1.0</td>\n",
              "    </tr>\n",
              "    <tr>\n",
              "      <th>2</th>\n",
              "      <td>AAPL</td>\n",
              "      <td>2016-03-23 00:00:00+00:00</td>\n",
              "      <td>106.13</td>\n",
              "      <td>107.07</td>\n",
              "      <td>105.9000</td>\n",
              "      <td>106.48</td>\n",
              "      <td>25703495</td>\n",
              "      <td>24.673817</td>\n",
              "      <td>24.892355</td>\n",
              "      <td>24.620345</td>\n",
              "      <td>24.755188</td>\n",
              "      <td>102813980</td>\n",
              "      <td>0.0</td>\n",
              "      <td>1.0</td>\n",
              "    </tr>\n",
              "    <tr>\n",
              "      <th>3</th>\n",
              "      <td>AAPL</td>\n",
              "      <td>2016-03-24 00:00:00+00:00</td>\n",
              "      <td>105.67</td>\n",
              "      <td>106.25</td>\n",
              "      <td>104.8900</td>\n",
              "      <td>105.47</td>\n",
              "      <td>26132955</td>\n",
              "      <td>24.566873</td>\n",
              "      <td>24.701716</td>\n",
              "      <td>24.385534</td>\n",
              "      <td>24.520376</td>\n",
              "      <td>104531820</td>\n",
              "      <td>0.0</td>\n",
              "      <td>1.0</td>\n",
              "    </tr>\n",
              "    <tr>\n",
              "      <th>4</th>\n",
              "      <td>AAPL</td>\n",
              "      <td>2016-03-28 00:00:00+00:00</td>\n",
              "      <td>105.19</td>\n",
              "      <td>106.19</td>\n",
              "      <td>105.0600</td>\n",
              "      <td>106.00</td>\n",
              "      <td>19411372</td>\n",
              "      <td>24.455280</td>\n",
              "      <td>24.687767</td>\n",
              "      <td>24.425057</td>\n",
              "      <td>24.643594</td>\n",
              "      <td>77645488</td>\n",
              "      <td>0.0</td>\n",
              "      <td>1.0</td>\n",
              "    </tr>\n",
              "  </tbody>\n",
              "</table>\n",
              "</div>"
            ],
            "text/plain": [
              "  symbol                       date   close  ...  adjVolume  divCash  splitFactor\n",
              "0   AAPL  2016-03-21 00:00:00+00:00  105.91  ...  142010712      0.0          1.0\n",
              "1   AAPL  2016-03-22 00:00:00+00:00  106.72  ...  129777500      0.0          1.0\n",
              "2   AAPL  2016-03-23 00:00:00+00:00  106.13  ...  102813980      0.0          1.0\n",
              "3   AAPL  2016-03-24 00:00:00+00:00  105.67  ...  104531820      0.0          1.0\n",
              "4   AAPL  2016-03-28 00:00:00+00:00  105.19  ...   77645488      0.0          1.0\n",
              "\n",
              "[5 rows x 14 columns]"
            ]
          },
          "metadata": {
            "tags": []
          },
          "execution_count": 7
        }
      ]
    },
    {
      "cell_type": "code",
      "metadata": {
        "colab": {
          "base_uri": "https://localhost:8080/"
        },
        "id": "IXX_hLtMSyri",
        "outputId": "e28750c5-8fde-4a9d-94ef-e1d38b70f554"
      },
      "source": [
        "df.shape"
      ],
      "execution_count": null,
      "outputs": [
        {
          "output_type": "execute_result",
          "data": {
            "text/plain": [
              "(1259, 14)"
            ]
          },
          "metadata": {
            "tags": []
          },
          "execution_count": 8
        }
      ]
    },
    {
      "cell_type": "code",
      "metadata": {
        "id": "z-z8ecp3TGLm"
      },
      "source": [
        "df1=df.reset_index()['close']"
      ],
      "execution_count": null,
      "outputs": []
    },
    {
      "cell_type": "code",
      "metadata": {
        "colab": {
          "base_uri": "https://localhost:8080/"
        },
        "id": "LW3SrpE0TZx1",
        "outputId": "28db169a-4229-42f7-f8ea-ba854496ce74"
      },
      "source": [
        "df1.shape"
      ],
      "execution_count": null,
      "outputs": [
        {
          "output_type": "execute_result",
          "data": {
            "text/plain": [
              "(1259,)"
            ]
          },
          "metadata": {
            "tags": []
          },
          "execution_count": 10
        }
      ]
    },
    {
      "cell_type": "code",
      "metadata": {
        "colab": {
          "base_uri": "https://localhost:8080/",
          "height": 282
        },
        "id": "qbTQ1dEATs2w",
        "outputId": "1b46dd92-461f-4304-d987-6b59aaba2494"
      },
      "source": [
        "import matplotlib.pyplot as plt\n",
        "plt.plot(df1)"
      ],
      "execution_count": null,
      "outputs": [
        {
          "output_type": "execute_result",
          "data": {
            "text/plain": [
              "[<matplotlib.lines.Line2D at 0x7f0b1f5f88d0>]"
            ]
          },
          "metadata": {
            "tags": []
          },
          "execution_count": 11
        },
        {
          "output_type": "display_data",
          "data": {
            "image/png": "[encoded data removed]",
            "text/plain": [
              "<Figure size 432x288 with 1 Axes>"
            ]
          },
          "metadata": {
            "tags": [],
            "needs_background": "light"
          }
        }
      ]
    },
    {
      "cell_type": "code",
      "metadata": {
        "id": "e84zByLyTzYh"
      },
      "source": [
        "#LSTM are sensitive to the scale of data, so using MinMax Scaler\n",
        "import numpy as np\n",
        "from sklearn.preprocessing import MinMaxScaler"
      ],
      "execution_count": null,
      "outputs": []
    },
    {
      "cell_type": "code",
      "metadata": {
        "id": "ynvyOh4ZUd_I"
      },
      "source": [
        "scaler=MinMaxScaler(feature_range=(0,1))\n",
        "df1=scaler.fit_transform(np.array(df1).reshape(-1,1))"
      ],
      "execution_count": null,
      "outputs": []
    },
    {
      "cell_type": "code",
      "metadata": {
        "id": "b-KIrRuSUuTG"
      },
      "source": [
        "#splititng the dataset into train and test split\n",
        "training_size=int(len(df1)*0.65)\n",
        "test_size=len(df1)-training_size\n",
        "train_data,test_data=df1[0:training_size ,:],df1[training_size:len(df1),:1]"
      ],
      "execution_count": null,
      "outputs": []
    },
    {
      "cell_type": "code",
      "metadata": {
        "id": "CFAXzehUdWMX"
      },
      "source": [
        "def create_dataset(dataset,time_step=1):\n",
        "  dataX,dataY=[],[]\n",
        "  for i in range(len(dataset)-time_step-1):\n",
        "    a=dataset[i:(i+time_step),0]      #i=0   0,1,2,3...99   100\n",
        "    dataX.append(a)\n",
        "    dataY.append(dataset[i+time_step,0])\n",
        "  return numpy.array(dataX),numpy.array(dataY)  "
      ],
      "execution_count": null,
      "outputs": []
    },
    {
      "cell_type": "code",
      "metadata": {
        "id": "mHX1w3tkddvP"
      },
      "source": [
        "time_step=100\n",
        "X_train,Y_train=create_dataset(train_data,time_step)\n",
        "X_test,Y_test=create_dataset(test_data,time_step)"
      ],
      "execution_count": null,
      "outputs": []
    },
    {
      "cell_type": "code",
      "metadata": {
        "colab": {
          "base_uri": "https://localhost:8080/"
        },
        "id": "P3yZRTmofjlN",
        "outputId": "bef4d873-4f76-4218-b549-72d1f74ea5e9"
      },
      "source": [
        "print(X_train)"
      ],
      "execution_count": null,
      "outputs": [
        {
          "output_type": "stream",
          "text": [
            "[[0.03745039 0.03939868 0.03797956 ... 0.04336741 0.04442574 0.04247745]\n",
            " [0.03939868 0.03797956 0.03687312 ... 0.04442574 0.04247745 0.04230908]\n",
            " [0.03797956 0.03687312 0.03571858 ... 0.04247745 0.04230908 0.0429104 ]\n",
            " ...\n",
            " [0.15143716 0.15292844 0.14999399 ... 0.25128082 0.24978954 0.24969333]\n",
            " [0.15292844 0.14999399 0.16216476 ... 0.24978954 0.24969333 0.24630186]\n",
            " [0.14999399 0.16216476 0.15865304 ... 0.24969333 0.24630186 0.24906795]]\n"
          ],
          "name": "stdout"
        }
      ]
    },
    {
      "cell_type": "code",
      "metadata": {
        "colab": {
          "base_uri": "https://localhost:8080/"
        },
        "id": "www47girfsH9",
        "outputId": "5cdbc36b-8cdb-4ae6-e837-8ff7db45c73e"
      },
      "source": [
        "print(X_train.shape)"
      ],
      "execution_count": null,
      "outputs": [
        {
          "output_type": "stream",
          "text": [
            "(717, 100)\n"
          ],
          "name": "stdout"
        }
      ]
    },
    {
      "cell_type": "code",
      "metadata": {
        "colab": {
          "base_uri": "https://localhost:8080/"
        },
        "id": "LKuwJTEbiJiU",
        "outputId": "813e8102-4387-4d14-c423-29d86bb81428"
      },
      "source": [
        "print(Y_train.shape)"
      ],
      "execution_count": null,
      "outputs": [
        {
          "output_type": "stream",
          "text": [
            "(717,)\n"
          ],
          "name": "stdout"
        }
      ]
    },
    {
      "cell_type": "code",
      "metadata": {
        "id": "7wYX-GIhiVYI"
      },
      "source": [
        "#reshape input to [samples,timesteps,features] which is required for LSTM\n",
        "X_train=X_train.reshape(X_train.shape[0],X_train.shape[1],1)\n",
        "X_test=X_test.reshape(X_test.shape[0],X_test.shape[1],1)"
      ],
      "execution_count": null,
      "outputs": []
    },
    {
      "cell_type": "code",
      "metadata": {
        "colab": {
          "base_uri": "https://localhost:8080/"
        },
        "id": "R92ON6n_jPQY",
        "outputId": "a8637a11-f465-452c-fa99-664c1dce85dd"
      },
      "source": [
        "X_train.shape"
      ],
      "execution_count": null,
      "outputs": [
        {
          "output_type": "execute_result",
          "data": {
            "text/plain": [
              "(717, 100, 1)"
            ]
          },
          "metadata": {
            "tags": []
          },
          "execution_count": 21
        }
      ]
    },
    {
      "cell_type": "code",
      "metadata": {
        "id": "fg1v-p7ZjUsY"
      },
      "source": [
        "#Creating the Stacked LSTM model\n",
        "from tensorflow.keras.models import Sequential\n",
        "from tensorflow.keras.layers import Dense\n",
        "from tensorflow.keras.layers import LSTM "
      ],
      "execution_count": null,
      "outputs": []
    },
    {
      "cell_type": "code",
      "metadata": {
        "id": "522CTTWxj1pH"
      },
      "source": [
        "model=Sequential()\n",
        "model.add(LSTM(50,return_sequences=True,input_shape=(100,1)))\n",
        "model.add(LSTM(50,return_sequences=True))\n",
        "model.add(LSTM(50))\n",
        "model.add(Dense(1))\n",
        "model.compile(loss='mean_squared_error',optimizer='adam')"
      ],
      "execution_count": null,
      "outputs": []
    },
    {
      "cell_type": "code",
      "metadata": {
        "colab": {
          "base_uri": "https://localhost:8080/"
        },
        "id": "megHxngRkWjn",
        "outputId": "9f2c1763-6b6e-4d46-9fbe-1c7153660ece"
      },
      "source": [
        " model.summary()"
      ],
      "execution_count": null,
      "outputs": [
        {
          "output_type": "stream",
          "text": [
            "Model: \"sequential\"\n",
            "_________________________________________________________________\n",
            "Layer (type)                 Output Shape              Param #   \n",
            "=================================================================\n",
            "lstm (LSTM)                  (None, 100, 50)           10400     \n",
            "_________________________________________________________________\n",
            "lstm_1 (LSTM)                (None, 100, 50)           20200     \n",
            "_________________________________________________________________\n",
            "lstm_2 (LSTM)                (None, 50)                20200     \n",
            "_________________________________________________________________\n",
            "dense (Dense)                (None, 1)                 51        \n",
            "=================================================================\n",
            "Total params: 50,851\n",
            "Trainable params: 50,851\n",
            "Non-trainable params: 0\n",
            "_________________________________________________________________\n"
          ],
          "name": "stdout"
        }
      ]
    },
    {
      "cell_type": "code",
      "metadata": {
        "colab": {
          "base_uri": "https://localhost:8080/"
        },
        "id": "snj8e4jKmKLq",
        "outputId": "d68a073f-2f33-41f4-c2c5-50f94070622e"
      },
      "source": [
        "model.fit(X_train,Y_train,validation_data=(X_test,Y_test),batch_size=64,epochs=100,verbose=1)"
      ],
      "execution_count": null,
      "outputs": [
        {
          "output_type": "stream",
          "text": [
            "Epoch 1/100\n",
            "12/12 [==============================] - 36s 123ms/step - loss: 0.0187 - val_loss: 0.0452\n",
            "Epoch 2/100\n",
            "12/12 [==============================] - 0s 23ms/step - loss: 0.0028 - val_loss: 0.0255\n",
            "Epoch 3/100\n",
            "12/12 [==============================] - 0s 19ms/step - loss: 0.0014 - val_loss: 0.0259\n",
            "Epoch 4/100\n",
            "12/12 [==============================] - 0s 19ms/step - loss: 7.0853e-04 - val_loss: 0.0208\n",
            "Epoch 5/100\n",
            "12/12 [==============================] - 0s 19ms/step - loss: 5.3355e-04 - val_loss: 0.0200\n",
            "Epoch 6/100\n",
            "12/12 [==============================] - 0s 18ms/step - loss: 4.3088e-04 - val_loss: 0.0194\n",
            "Epoch 7/100\n",
            "12/12 [==============================] - 0s 18ms/step - loss: 4.1610e-04 - val_loss: 0.0190\n",
            "Epoch 8/100\n",
            "12/12 [==============================] - 0s 18ms/step - loss: 4.0812e-04 - val_loss: 0.0187\n",
            "Epoch 9/100\n",
            "12/12 [==============================] - 0s 18ms/step - loss: 4.1769e-04 - val_loss: 0.0182\n",
            "Epoch 10/100\n",
            "12/12 [==============================] - 0s 18ms/step - loss: 3.3163e-04 - val_loss: 0.0178\n",
            "Epoch 11/100\n",
            "12/12 [==============================] - 0s 18ms/step - loss: 3.2836e-04 - val_loss: 0.0174\n",
            "Epoch 12/100\n",
            "12/12 [==============================] - 0s 19ms/step - loss: 3.4136e-04 - val_loss: 0.0170\n",
            "Epoch 13/100\n",
            "12/12 [==============================] - 0s 18ms/step - loss: 3.1115e-04 - val_loss: 0.0168\n",
            "Epoch 14/100\n",
            "12/12 [==============================] - 0s 18ms/step - loss: 3.4760e-04 - val_loss: 0.0163\n",
            "Epoch 15/100\n",
            "12/12 [==============================] - 0s 18ms/step - loss: 3.2548e-04 - val_loss: 0.0161\n",
            "Epoch 16/100\n",
            "12/12 [==============================] - 0s 19ms/step - loss: 3.2412e-04 - val_loss: 0.0155\n",
            "Epoch 17/100\n",
            "12/12 [==============================] - 0s 18ms/step - loss: 2.8137e-04 - val_loss: 0.0151\n",
            "Epoch 18/100\n",
            "12/12 [==============================] - 0s 18ms/step - loss: 2.9414e-04 - val_loss: 0.0147\n",
            "Epoch 19/100\n",
            "12/12 [==============================] - 0s 19ms/step - loss: 2.8219e-04 - val_loss: 0.0142\n",
            "Epoch 20/100\n",
            "12/12 [==============================] - 0s 18ms/step - loss: 2.7928e-04 - val_loss: 0.0137\n",
            "Epoch 21/100\n",
            "12/12 [==============================] - 0s 18ms/step - loss: 2.6993e-04 - val_loss: 0.0136\n",
            "Epoch 22/100\n",
            "12/12 [==============================] - 0s 18ms/step - loss: 2.3773e-04 - val_loss: 0.0132\n",
            "Epoch 23/100\n",
            "12/12 [==============================] - 0s 18ms/step - loss: 2.3495e-04 - val_loss: 0.0128\n",
            "Epoch 24/100\n",
            "12/12 [==============================] - 0s 18ms/step - loss: 2.2793e-04 - val_loss: 0.0128\n",
            "Epoch 25/100\n",
            "12/12 [==============================] - 0s 18ms/step - loss: 2.3313e-04 - val_loss: 0.0133\n",
            "Epoch 26/100\n",
            "12/12 [==============================] - 0s 19ms/step - loss: 2.1587e-04 - val_loss: 0.0130\n",
            "Epoch 27/100\n",
            "12/12 [==============================] - 0s 18ms/step - loss: 2.3591e-04 - val_loss: 0.0137\n",
            "Epoch 28/100\n",
            "12/12 [==============================] - 0s 19ms/step - loss: 2.1441e-04 - val_loss: 0.0153\n",
            "Epoch 29/100\n",
            "12/12 [==============================] - 0s 18ms/step - loss: 2.1933e-04 - val_loss: 0.0141\n",
            "Epoch 30/100\n",
            "12/12 [==============================] - 0s 18ms/step - loss: 2.2418e-04 - val_loss: 0.0137\n",
            "Epoch 31/100\n",
            "12/12 [==============================] - 0s 18ms/step - loss: 2.0865e-04 - val_loss: 0.0135\n",
            "Epoch 32/100\n",
            "12/12 [==============================] - 0s 18ms/step - loss: 2.1058e-04 - val_loss: 0.0137\n",
            "Epoch 33/100\n",
            "12/12 [==============================] - 0s 19ms/step - loss: 1.9776e-04 - val_loss: 0.0156\n",
            "Epoch 34/100\n",
            "12/12 [==============================] - 0s 18ms/step - loss: 1.9976e-04 - val_loss: 0.0129\n",
            "Epoch 35/100\n",
            "12/12 [==============================] - 0s 19ms/step - loss: 2.0180e-04 - val_loss: 0.0156\n",
            "Epoch 36/100\n",
            "12/12 [==============================] - 0s 18ms/step - loss: 2.4255e-04 - val_loss: 0.0139\n",
            "Epoch 37/100\n",
            "12/12 [==============================] - 0s 18ms/step - loss: 2.2161e-04 - val_loss: 0.0112\n",
            "Epoch 38/100\n",
            "12/12 [==============================] - 0s 18ms/step - loss: 2.2330e-04 - val_loss: 0.0119\n",
            "Epoch 39/100\n",
            "12/12 [==============================] - 0s 18ms/step - loss: 1.8097e-04 - val_loss: 0.0109\n",
            "Epoch 40/100\n",
            "12/12 [==============================] - 0s 18ms/step - loss: 2.2569e-04 - val_loss: 0.0131\n",
            "Epoch 41/100\n",
            "12/12 [==============================] - 0s 18ms/step - loss: 1.9375e-04 - val_loss: 0.0120\n",
            "Epoch 42/100\n",
            "12/12 [==============================] - 0s 18ms/step - loss: 1.7205e-04 - val_loss: 0.0127\n",
            "Epoch 43/100\n",
            "12/12 [==============================] - 0s 18ms/step - loss: 1.8462e-04 - val_loss: 0.0115\n",
            "Epoch 44/100\n",
            "12/12 [==============================] - 0s 18ms/step - loss: 1.9939e-04 - val_loss: 0.0121\n",
            "Epoch 45/100\n",
            "12/12 [==============================] - 0s 18ms/step - loss: 1.9195e-04 - val_loss: 0.0124\n",
            "Epoch 46/100\n",
            "12/12 [==============================] - 0s 18ms/step - loss: 1.7411e-04 - val_loss: 0.0114\n",
            "Epoch 47/100\n",
            "12/12 [==============================] - 0s 19ms/step - loss: 1.9477e-04 - val_loss: 0.0112\n",
            "Epoch 48/100\n",
            "12/12 [==============================] - 0s 19ms/step - loss: 1.8099e-04 - val_loss: 0.0114\n",
            "Epoch 49/100\n",
            "12/12 [==============================] - 0s 20ms/step - loss: 1.6133e-04 - val_loss: 0.0108\n",
            "Epoch 50/100\n",
            "12/12 [==============================] - 0s 19ms/step - loss: 1.9415e-04 - val_loss: 0.0121\n",
            "Epoch 51/100\n",
            "12/12 [==============================] - 0s 18ms/step - loss: 1.8693e-04 - val_loss: 0.0108\n",
            "Epoch 52/100\n",
            "12/12 [==============================] - 0s 17ms/step - loss: 1.6227e-04 - val_loss: 0.0108\n",
            "Epoch 53/100\n",
            "12/12 [==============================] - 0s 18ms/step - loss: 1.8141e-04 - val_loss: 0.0101\n",
            "Epoch 54/100\n",
            "12/12 [==============================] - 0s 18ms/step - loss: 1.5470e-04 - val_loss: 0.0113\n",
            "Epoch 55/100\n",
            "12/12 [==============================] - 0s 18ms/step - loss: 1.7404e-04 - val_loss: 0.0109\n",
            "Epoch 56/100\n",
            "12/12 [==============================] - 0s 18ms/step - loss: 1.5391e-04 - val_loss: 0.0114\n",
            "Epoch 57/100\n",
            "12/12 [==============================] - 0s 18ms/step - loss: 1.5858e-04 - val_loss: 0.0102\n",
            "Epoch 58/100\n",
            "12/12 [==============================] - 0s 19ms/step - loss: 1.5148e-04 - val_loss: 0.0116\n",
            "Epoch 59/100\n",
            "12/12 [==============================] - 0s 19ms/step - loss: 1.7565e-04 - val_loss: 0.0096\n",
            "Epoch 60/100\n",
            "12/12 [==============================] - 0s 18ms/step - loss: 1.9496e-04 - val_loss: 0.0113\n",
            "Epoch 61/100\n",
            "12/12 [==============================] - 0s 19ms/step - loss: 2.0926e-04 - val_loss: 0.0113\n",
            "Epoch 62/100\n",
            "12/12 [==============================] - 0s 18ms/step - loss: 1.8034e-04 - val_loss: 0.0097\n",
            "Epoch 63/100\n",
            "12/12 [==============================] - 0s 18ms/step - loss: 1.7869e-04 - val_loss: 0.0088\n",
            "Epoch 64/100\n",
            "12/12 [==============================] - 0s 18ms/step - loss: 1.6432e-04 - val_loss: 0.0106\n",
            "Epoch 65/100\n",
            "12/12 [==============================] - 0s 19ms/step - loss: 1.6862e-04 - val_loss: 0.0092\n",
            "Epoch 66/100\n",
            "12/12 [==============================] - 0s 18ms/step - loss: 1.4330e-04 - val_loss: 0.0092\n",
            "Epoch 67/100\n",
            "12/12 [==============================] - 0s 18ms/step - loss: 1.3881e-04 - val_loss: 0.0096\n",
            "Epoch 68/100\n",
            "12/12 [==============================] - 0s 18ms/step - loss: 1.3937e-04 - val_loss: 0.0110\n",
            "Epoch 69/100\n",
            "12/12 [==============================] - 0s 18ms/step - loss: 1.8667e-04 - val_loss: 0.0091\n",
            "Epoch 70/100\n",
            "12/12 [==============================] - 0s 18ms/step - loss: 1.4586e-04 - val_loss: 0.0093\n",
            "Epoch 71/100\n",
            "12/12 [==============================] - 0s 18ms/step - loss: 1.5066e-04 - val_loss: 0.0101\n",
            "Epoch 72/100\n",
            "12/12 [==============================] - 0s 18ms/step - loss: 1.4195e-04 - val_loss: 0.0102\n",
            "Epoch 73/100\n",
            "12/12 [==============================] - 0s 18ms/step - loss: 1.7077e-04 - val_loss: 0.0080\n",
            "Epoch 74/100\n",
            "12/12 [==============================] - 0s 18ms/step - loss: 1.7617e-04 - val_loss: 0.0093\n",
            "Epoch 75/100\n",
            "12/12 [==============================] - 0s 18ms/step - loss: 1.4396e-04 - val_loss: 0.0080\n",
            "Epoch 76/100\n",
            "12/12 [==============================] - 0s 18ms/step - loss: 1.9494e-04 - val_loss: 0.0085\n",
            "Epoch 77/100\n",
            "12/12 [==============================] - 0s 18ms/step - loss: 1.3992e-04 - val_loss: 0.0088\n",
            "Epoch 78/100\n",
            "12/12 [==============================] - 0s 18ms/step - loss: 1.2944e-04 - val_loss: 0.0103\n",
            "Epoch 79/100\n",
            "12/12 [==============================] - 0s 18ms/step - loss: 1.6904e-04 - val_loss: 0.0085\n",
            "Epoch 80/100\n",
            "12/12 [==============================] - 0s 18ms/step - loss: 1.3337e-04 - val_loss: 0.0098\n",
            "Epoch 81/100\n",
            "12/12 [==============================] - 0s 18ms/step - loss: 1.2866e-04 - val_loss: 0.0088\n",
            "Epoch 82/100\n",
            "12/12 [==============================] - 0s 18ms/step - loss: 1.2947e-04 - val_loss: 0.0085\n",
            "Epoch 83/100\n",
            "12/12 [==============================] - 0s 18ms/step - loss: 1.1620e-04 - val_loss: 0.0092\n",
            "Epoch 84/100\n",
            "12/12 [==============================] - 0s 18ms/step - loss: 1.1626e-04 - val_loss: 0.0085\n",
            "Epoch 85/100\n",
            "12/12 [==============================] - 0s 17ms/step - loss: 1.2201e-04 - val_loss: 0.0087\n",
            "Epoch 86/100\n",
            "12/12 [==============================] - 0s 18ms/step - loss: 1.2541e-04 - val_loss: 0.0083\n",
            "Epoch 87/100\n",
            "12/12 [==============================] - 0s 18ms/step - loss: 1.1403e-04 - val_loss: 0.0079\n",
            "Epoch 88/100\n",
            "12/12 [==============================] - 0s 18ms/step - loss: 1.2035e-04 - val_loss: 0.0084\n",
            "Epoch 89/100\n",
            "12/12 [==============================] - 0s 18ms/step - loss: 1.2835e-04 - val_loss: 0.0077\n",
            "Epoch 90/100\n",
            "12/12 [==============================] - 0s 18ms/step - loss: 1.1806e-04 - val_loss: 0.0075\n",
            "Epoch 91/100\n",
            "12/12 [==============================] - 0s 18ms/step - loss: 1.2096e-04 - val_loss: 0.0088\n",
            "Epoch 92/100\n",
            "12/12 [==============================] - 0s 18ms/step - loss: 1.3370e-04 - val_loss: 0.0072\n",
            "Epoch 93/100\n",
            "12/12 [==============================] - 0s 18ms/step - loss: 1.1314e-04 - val_loss: 0.0070\n",
            "Epoch 94/100\n",
            "12/12 [==============================] - 0s 18ms/step - loss: 1.2809e-04 - val_loss: 0.0086\n",
            "Epoch 95/100\n",
            "12/12 [==============================] - 0s 18ms/step - loss: 1.2823e-04 - val_loss: 0.0075\n",
            "Epoch 96/100\n",
            "12/12 [==============================] - 0s 18ms/step - loss: 1.1002e-04 - val_loss: 0.0071\n",
            "Epoch 97/100\n",
            "12/12 [==============================] - 0s 18ms/step - loss: 1.3008e-04 - val_loss: 0.0065\n",
            "Epoch 98/100\n",
            "12/12 [==============================] - 0s 18ms/step - loss: 1.2973e-04 - val_loss: 0.0066\n",
            "Epoch 99/100\n",
            "12/12 [==============================] - 0s 19ms/step - loss: 1.1843e-04 - val_loss: 0.0067\n",
            "Epoch 100/100\n",
            "12/12 [==============================] - 0s 18ms/step - loss: 1.0046e-04 - val_loss: 0.0064\n"
          ],
          "name": "stdout"
        },
        {
          "output_type": "execute_result",
          "data": {
            "text/plain": [
              "<tensorflow.python.keras.callbacks.History at 0x7f0ad033e050>"
            ]
          },
          "metadata": {
            "tags": []
          },
          "execution_count": 25
        }
      ]
    },
    {
      "cell_type": "code",
      "metadata": {
        "id": "FTOo2bLVnltC"
      },
      "source": [
        "## predicting and checking the performance of the model\n",
        "train_predict=model.predict(X_train)\n",
        "test_predict=model.predict(X_test)"
      ],
      "execution_count": null,
      "outputs": []
    },
    {
      "cell_type": "code",
      "metadata": {
        "id": "HlCtxhPxoa4k"
      },
      "source": [
        "#Transformback to the orignal form\n",
        "train_predict=scaler.inverse_transform(train_predict)\n",
        "test_predict=scaler.inverse_transform(test_predict)"
      ],
      "execution_count": null,
      "outputs": []
    },
    {
      "cell_type": "code",
      "metadata": {
        "colab": {
          "base_uri": "https://localhost:8080/"
        },
        "id": "SB603Ti9ow7e",
        "outputId": "fb675a8f-c4c0-46f0-b983-f3e7cb8ca1ec"
      },
      "source": [
        "# train data RMSE\n",
        "from sklearn.metrics import mean_squared_error\n",
        "math.sqrt(mean_squared_error(Y_train,train_predict))"
      ],
      "execution_count": null,
      "outputs": [
        {
          "output_type": "execute_result",
          "data": {
            "text/plain": [
              "167.4035680380545"
            ]
          },
          "metadata": {
            "tags": []
          },
          "execution_count": 28
        }
      ]
    },
    {
      "cell_type": "code",
      "metadata": {
        "colab": {
          "base_uri": "https://localhost:8080/"
        },
        "id": "5hOFZJIZpYS9",
        "outputId": "85ddb256-844d-4c5d-97cf-af660b70cd7e"
      },
      "source": [
        "# test data RMSE\n",
        "math.sqrt(mean_squared_error(Y_test,test_predict))"
      ],
      "execution_count": null,
      "outputs": [
        {
          "output_type": "execute_result",
          "data": {
            "text/plain": [
              "255.9934470596738"
            ]
          },
          "metadata": {
            "tags": []
          },
          "execution_count": 29
        }
      ]
    },
    {
      "cell_type": "code",
      "metadata": {
        "colab": {
          "base_uri": "https://localhost:8080/",
          "height": 265
        },
        "id": "FQVL0Cv0przw",
        "outputId": "be8c65d1-1d27-4178-fc36-1f1d9b86bc03"
      },
      "source": [
        "### Plotting \n",
        "# shift train predictions for plotting\n",
        "look_back=100\n",
        "trainPredictPlot = numpy.empty_like(df1)\n",
        "trainPredictPlot[:, :] = np.nan\n",
        "trainPredictPlot[look_back:len(train_predict)+look_back, :] = train_predict\n",
        "# shift test predictions for plotting\n",
        "testPredictPlot = numpy.empty_like(df1)\n",
        "testPredictPlot[:, :] = numpy.nan\n",
        "testPredictPlot[len(train_predict)+(look_back*2)+1:len(df1)-1, :] = test_predict\n",
        "# plot baseline and predictions\n",
        "plt.plot(scaler.inverse_transform(df1))\n",
        "plt.plot(trainPredictPlot)\n",
        "plt.plot(testPredictPlot)\n",
        "plt.show()"
      ],
      "execution_count": null,
      "outputs": [
        {
          "output_type": "display_data",
          "data": {
            "image/png": "[encoded data removed]",
            "text/plain": [
              "<Figure size 432x288 with 1 Axes>"
            ]
          },
          "metadata": {
            "tags": [],
            "needs_background": "light"
          }
        }
      ]
    },
    {
      "cell_type": "code",
      "metadata": {
        "colab": {
          "base_uri": "https://localhost:8080/"
        },
        "id": "dtXBqkddrg5L",
        "outputId": "96ae7099-59b8-4fd1-c994-073287bc3dc4"
      },
      "source": [
        "test_data.shape"
      ],
      "execution_count": null,
      "outputs": [
        {
          "output_type": "execute_result",
          "data": {
            "text/plain": [
              "(441, 1)"
            ]
          },
          "metadata": {
            "tags": []
          },
          "execution_count": 31
        }
      ]
    },
    {
      "cell_type": "code",
      "metadata": {
        "colab": {
          "base_uri": "https://localhost:8080/"
        },
        "id": "8Kn-FTA6qqPU",
        "outputId": "91260b8f-6df9-453b-ee7f-d20f68933f6c"
      },
      "source": [
        "#predicting the output for next 100 days\n",
        "X_input=test_data[341:].reshape(1,-1)\n",
        "X_input.shape"
      ],
      "execution_count": null,
      "outputs": [
        {
          "output_type": "execute_result",
          "data": {
            "text/plain": [
              "(1, 100)"
            ]
          },
          "metadata": {
            "tags": []
          },
          "execution_count": 32
        }
      ]
    },
    {
      "cell_type": "code",
      "metadata": {
        "id": "ZOKPbIpSrpvb"
      },
      "source": [
        "temp_input=list(X_input)\n",
        "temp_input=temp_input[0].tolist()"
      ],
      "execution_count": null,
      "outputs": []
    },
    {
      "cell_type": "code",
      "metadata": {
        "colab": {
          "base_uri": "https://localhost:8080/"
        },
        "id": "844HQYZTsEjH",
        "outputId": "5bfa3a73-9c65-4109-aa8d-0ebf53e04033"
      },
      "source": [
        "# demonstrate prediction for next 10 days\n",
        "from numpy import array\n",
        "lst_output=[]\n",
        "n_steps=100\n",
        "i=0\n",
        "while(i<30):\n",
        "    \n",
        "    if(len(temp_input)>100):\n",
        "        #print(temp_input)\n",
        "        x_input=np.array(temp_input[1:])\n",
        "        print(\"{} day input {}\".format(i,X_input))\n",
        "        x_input=x_input.reshape(1,-1)\n",
        "        x_input = x_input.reshape((1, n_steps, 1))\n",
        "        #print(x_input)\n",
        "        yhat = model.predict(x_input, verbose=0)\n",
        "        print(\"{} day output {}\".format(i,yhat))\n",
        "        temp_input.extend(yhat[0].tolist())\n",
        "        temp_input=temp_input[1:]\n",
        "        #print(temp_input)\n",
        "        lst_output.extend(yhat.tolist())\n",
        "        i=i+1\n",
        "    else:\n",
        "        x_input = X_input.reshape((1, n_steps,1))\n",
        "        yhat = model.predict(x_input, verbose=0)\n",
        "        print(yhat[0])\n",
        "        temp_input.extend(yhat[0].tolist())\n",
        "        print(len(temp_input))\n",
        "        lst_output.extend(yhat.tolist())\n",
        "        i=i+1\n",
        "    \n",
        "\n",
        "print(lst_output)\n"
      ],
      "execution_count": null,
      "outputs": [
        {
          "output_type": "stream",
          "text": [
            "[0.08280092]\n",
            "101\n",
            "1 day input [[0.05943476 0.06316296 0.05017438 0.06008419 0.044546   0.04432952\n",
            "  0.04834636 0.05919423 0.06900782 0.06819002 0.06248948 0.06164762\n",
            "  0.07011425 0.06944077 0.06956103 0.07206254 0.06987372 0.06660253\n",
            "  0.06806975 0.06494287 0.05654841 0.05972339 0.06179194 0.06313891\n",
            "  0.06905592 0.07788334 0.07874925 0.07841251 0.07675286 0.08036079\n",
            "  0.08187613 0.07562237 0.0791341  0.0771377  0.07562237 0.09029465\n",
            "  0.09012628 0.09226699 0.08734817 0.0911365  0.09991581 0.09770295\n",
            "  0.10013229 0.11148527 0.10710764 0.10434155 0.1018641  0.09397474\n",
            "  0.09782321 0.08721587 0.09760673 0.10032471 0.09294047 0.09250752\n",
            "  0.09753458 0.0927721  0.08851473 0.09017438 0.10027661 0.11191822\n",
            "  0.11720986 0.12647023 0.1270475  0.12440168 0.11244738 0.10010824\n",
            "  0.10535177 0.10739627 0.10487072 0.11316897 0.11165364 0.11201443\n",
            "  0.10984967 0.10835839 0.10773301 0.10831028 0.10306675 0.09741431\n",
            "  0.09469633 0.09508118 0.0857727  0.08543596 0.08420926 0.07372219\n",
            "  0.07437162 0.09007817 0.08365604 0.07629585 0.07165364 0.07475646\n",
            "  0.06258569 0.07395069 0.07129284 0.07605532 0.0738184  0.08093806\n",
            "  0.08473842 0.08279014 0.07261575 0.0713169 ]]\n",
            "1 day output [[0.08278857]]\n",
            "2 day input [[0.05943476 0.06316296 0.05017438 0.06008419 0.044546   0.04432952\n",
            "  0.04834636 0.05919423 0.06900782 0.06819002 0.06248948 0.06164762\n",
            "  0.07011425 0.06944077 0.06956103 0.07206254 0.06987372 0.06660253\n",
            "  0.06806975 0.06494287 0.05654841 0.05972339 0.06179194 0.06313891\n",
            "  0.06905592 0.07788334 0.07874925 0.07841251 0.07675286 0.08036079\n",
            "  0.08187613 0.07562237 0.0791341  0.0771377  0.07562237 0.09029465\n",
            "  0.09012628 0.09226699 0.08734817 0.0911365  0.09991581 0.09770295\n",
            "  0.10013229 0.11148527 0.10710764 0.10434155 0.1018641  0.09397474\n",
            "  0.09782321 0.08721587 0.09760673 0.10032471 0.09294047 0.09250752\n",
            "  0.09753458 0.0927721  0.08851473 0.09017438 0.10027661 0.11191822\n",
            "  0.11720986 0.12647023 0.1270475  0.12440168 0.11244738 0.10010824\n",
            "  0.10535177 0.10739627 0.10487072 0.11316897 0.11165364 0.11201443\n",
            "  0.10984967 0.10835839 0.10773301 0.10831028 0.10306675 0.09741431\n",
            "  0.09469633 0.09508118 0.0857727  0.08543596 0.08420926 0.07372219\n",
            "  0.07437162 0.09007817 0.08365604 0.07629585 0.07165364 0.07475646\n",
            "  0.06258569 0.07395069 0.07129284 0.07605532 0.0738184  0.08093806\n",
            "  0.08473842 0.08279014 0.07261575 0.0713169 ]]\n",
            "2 day output [[0.08302171]]\n",
            "3 day input [[0.05943476 0.06316296 0.05017438 0.06008419 0.044546   0.04432952\n",
            "  0.04834636 0.05919423 0.06900782 0.06819002 0.06248948 0.06164762\n",
            "  0.07011425 0.06944077 0.06956103 0.07206254 0.06987372 0.06660253\n",
            "  0.06806975 0.06494287 0.05654841 0.05972339 0.06179194 0.06313891\n",
            "  0.06905592 0.07788334 0.07874925 0.07841251 0.07675286 0.08036079\n",
            "  0.08187613 0.07562237 0.0791341  0.0771377  0.07562237 0.09029465\n",
            "  0.09012628 0.09226699 0.08734817 0.0911365  0.09991581 0.09770295\n",
            "  0.10013229 0.11148527 0.10710764 0.10434155 0.1018641  0.09397474\n",
            "  0.09782321 0.08721587 0.09760673 0.10032471 0.09294047 0.09250752\n",
            "  0.09753458 0.0927721  0.08851473 0.09017438 0.10027661 0.11191822\n",
            "  0.11720986 0.12647023 0.1270475  0.12440168 0.11244738 0.10010824\n",
            "  0.10535177 0.10739627 0.10487072 0.11316897 0.11165364 0.11201443\n",
            "  0.10984967 0.10835839 0.10773301 0.10831028 0.10306675 0.09741431\n",
            "  0.09469633 0.09508118 0.0857727  0.08543596 0.08420926 0.07372219\n",
            "  0.07437162 0.09007817 0.08365604 0.07629585 0.07165364 0.07475646\n",
            "  0.06258569 0.07395069 0.07129284 0.07605532 0.0738184  0.08093806\n",
            "  0.08473842 0.08279014 0.07261575 0.0713169 ]]\n",
            "3 day output [[0.08353253]]\n",
            "4 day input [[0.05943476 0.06316296 0.05017438 0.06008419 0.044546   0.04432952\n",
            "  0.04834636 0.05919423 0.06900782 0.06819002 0.06248948 0.06164762\n",
            "  0.07011425 0.06944077 0.06956103 0.07206254 0.06987372 0.06660253\n",
            "  0.06806975 0.06494287 0.05654841 0.05972339 0.06179194 0.06313891\n",
            "  0.06905592 0.07788334 0.07874925 0.07841251 0.07675286 0.08036079\n",
            "  0.08187613 0.07562237 0.0791341  0.0771377  0.07562237 0.09029465\n",
            "  0.09012628 0.09226699 0.08734817 0.0911365  0.09991581 0.09770295\n",
            "  0.10013229 0.11148527 0.10710764 0.10434155 0.1018641  0.09397474\n",
            "  0.09782321 0.08721587 0.09760673 0.10032471 0.09294047 0.09250752\n",
            "  0.09753458 0.0927721  0.08851473 0.09017438 0.10027661 0.11191822\n",
            "  0.11720986 0.12647023 0.1270475  0.12440168 0.11244738 0.10010824\n",
            "  0.10535177 0.10739627 0.10487072 0.11316897 0.11165364 0.11201443\n",
            "  0.10984967 0.10835839 0.10773301 0.10831028 0.10306675 0.09741431\n",
            "  0.09469633 0.09508118 0.0857727  0.08543596 0.08420926 0.07372219\n",
            "  0.07437162 0.09007817 0.08365604 0.07629585 0.07165364 0.07475646\n",
            "  0.06258569 0.07395069 0.07129284 0.07605532 0.0738184  0.08093806\n",
            "  0.08473842 0.08279014 0.07261575 0.0713169 ]]\n",
            "4 day output [[0.08424481]]\n",
            "5 day input [[0.05943476 0.06316296 0.05017438 0.06008419 0.044546   0.04432952\n",
            "  0.04834636 0.05919423 0.06900782 0.06819002 0.06248948 0.06164762\n",
            "  0.07011425 0.06944077 0.06956103 0.07206254 0.06987372 0.06660253\n",
            "  0.06806975 0.06494287 0.05654841 0.05972339 0.06179194 0.06313891\n",
            "  0.06905592 0.07788334 0.07874925 0.07841251 0.07675286 0.08036079\n",
            "  0.08187613 0.07562237 0.0791341  0.0771377  0.07562237 0.09029465\n",
            "  0.09012628 0.09226699 0.08734817 0.0911365  0.09991581 0.09770295\n",
            "  0.10013229 0.11148527 0.10710764 0.10434155 0.1018641  0.09397474\n",
            "  0.09782321 0.08721587 0.09760673 0.10032471 0.09294047 0.09250752\n",
            "  0.09753458 0.0927721  0.08851473 0.09017438 0.10027661 0.11191822\n",
            "  0.11720986 0.12647023 0.1270475  0.12440168 0.11244738 0.10010824\n",
            "  0.10535177 0.10739627 0.10487072 0.11316897 0.11165364 0.11201443\n",
            "  0.10984967 0.10835839 0.10773301 0.10831028 0.10306675 0.09741431\n",
            "  0.09469633 0.09508118 0.0857727  0.08543596 0.08420926 0.07372219\n",
            "  0.07437162 0.09007817 0.08365604 0.07629585 0.07165364 0.07475646\n",
            "  0.06258569 0.07395069 0.07129284 0.07605532 0.0738184  0.08093806\n",
            "  0.08473842 0.08279014 0.07261575 0.0713169 ]]\n",
            "5 day output [[0.08506993]]\n",
            "6 day input [[0.05943476 0.06316296 0.05017438 0.06008419 0.044546   0.04432952\n",
            "  0.04834636 0.05919423 0.06900782 0.06819002 0.06248948 0.06164762\n",
            "  0.07011425 0.06944077 0.06956103 0.07206254 0.06987372 0.06660253\n",
            "  0.06806975 0.06494287 0.05654841 0.05972339 0.06179194 0.06313891\n",
            "  0.06905592 0.07788334 0.07874925 0.07841251 0.07675286 0.08036079\n",
            "  0.08187613 0.07562237 0.0791341  0.0771377  0.07562237 0.09029465\n",
            "  0.09012628 0.09226699 0.08734817 0.0911365  0.09991581 0.09770295\n",
            "  0.10013229 0.11148527 0.10710764 0.10434155 0.1018641  0.09397474\n",
            "  0.09782321 0.08721587 0.09760673 0.10032471 0.09294047 0.09250752\n",
            "  0.09753458 0.0927721  0.08851473 0.09017438 0.10027661 0.11191822\n",
            "  0.11720986 0.12647023 0.1270475  0.12440168 0.11244738 0.10010824\n",
            "  0.10535177 0.10739627 0.10487072 0.11316897 0.11165364 0.11201443\n",
            "  0.10984967 0.10835839 0.10773301 0.10831028 0.10306675 0.09741431\n",
            "  0.09469633 0.09508118 0.0857727  0.08543596 0.08420926 0.07372219\n",
            "  0.07437162 0.09007817 0.08365604 0.07629585 0.07165364 0.07475646\n",
            "  0.06258569 0.07395069 0.07129284 0.07605532 0.0738184  0.08093806\n",
            "  0.08473842 0.08279014 0.07261575 0.0713169 ]]\n",
            "6 day output [[0.08594234]]\n",
            "7 day input [[0.05943476 0.06316296 0.05017438 0.06008419 0.044546   0.04432952\n",
            "  0.04834636 0.05919423 0.06900782 0.06819002 0.06248948 0.06164762\n",
            "  0.07011425 0.06944077 0.06956103 0.07206254 0.06987372 0.06660253\n",
            "  0.06806975 0.06494287 0.05654841 0.05972339 0.06179194 0.06313891\n",
            "  0.06905592 0.07788334 0.07874925 0.07841251 0.07675286 0.08036079\n",
            "  0.08187613 0.07562237 0.0791341  0.0771377  0.07562237 0.09029465\n",
            "  0.09012628 0.09226699 0.08734817 0.0911365  0.09991581 0.09770295\n",
            "  0.10013229 0.11148527 0.10710764 0.10434155 0.1018641  0.09397474\n",
            "  0.09782321 0.08721587 0.09760673 0.10032471 0.09294047 0.09250752\n",
            "  0.09753458 0.0927721  0.08851473 0.09017438 0.10027661 0.11191822\n",
            "  0.11720986 0.12647023 0.1270475  0.12440168 0.11244738 0.10010824\n",
            "  0.10535177 0.10739627 0.10487072 0.11316897 0.11165364 0.11201443\n",
            "  0.10984967 0.10835839 0.10773301 0.10831028 0.10306675 0.09741431\n",
            "  0.09469633 0.09508118 0.0857727  0.08543596 0.08420926 0.07372219\n",
            "  0.07437162 0.09007817 0.08365604 0.07629585 0.07165364 0.07475646\n",
            "  0.06258569 0.07395069 0.07129284 0.07605532 0.0738184  0.08093806\n",
            "  0.08473842 0.08279014 0.07261575 0.0713169 ]]\n",
            "7 day output [[0.08682422]]\n",
            "8 day input [[0.05943476 0.06316296 0.05017438 0.06008419 0.044546   0.04432952\n",
            "  0.04834636 0.05919423 0.06900782 0.06819002 0.06248948 0.06164762\n",
            "  0.07011425 0.06944077 0.06956103 0.07206254 0.06987372 0.06660253\n",
            "  0.06806975 0.06494287 0.05654841 0.05972339 0.06179194 0.06313891\n",
            "  0.06905592 0.07788334 0.07874925 0.07841251 0.07675286 0.08036079\n",
            "  0.08187613 0.07562237 0.0791341  0.0771377  0.07562237 0.09029465\n",
            "  0.09012628 0.09226699 0.08734817 0.0911365  0.09991581 0.09770295\n",
            "  0.10013229 0.11148527 0.10710764 0.10434155 0.1018641  0.09397474\n",
            "  0.09782321 0.08721587 0.09760673 0.10032471 0.09294047 0.09250752\n",
            "  0.09753458 0.0927721  0.08851473 0.09017438 0.10027661 0.11191822\n",
            "  0.11720986 0.12647023 0.1270475  0.12440168 0.11244738 0.10010824\n",
            "  0.10535177 0.10739627 0.10487072 0.11316897 0.11165364 0.11201443\n",
            "  0.10984967 0.10835839 0.10773301 0.10831028 0.10306675 0.09741431\n",
            "  0.09469633 0.09508118 0.0857727  0.08543596 0.08420926 0.07372219\n",
            "  0.07437162 0.09007817 0.08365604 0.07629585 0.07165364 0.07475646\n",
            "  0.06258569 0.07395069 0.07129284 0.07605532 0.0738184  0.08093806\n",
            "  0.08473842 0.08279014 0.07261575 0.0713169 ]]\n",
            "8 day output [[0.08769882]]\n",
            "9 day input [[0.05943476 0.06316296 0.05017438 0.06008419 0.044546   0.04432952\n",
            "  0.04834636 0.05919423 0.06900782 0.06819002 0.06248948 0.06164762\n",
            "  0.07011425 0.06944077 0.06956103 0.07206254 0.06987372 0.06660253\n",
            "  0.06806975 0.06494287 0.05654841 0.05972339 0.06179194 0.06313891\n",
            "  0.06905592 0.07788334 0.07874925 0.07841251 0.07675286 0.08036079\n",
            "  0.08187613 0.07562237 0.0791341  0.0771377  0.07562237 0.09029465\n",
            "  0.09012628 0.09226699 0.08734817 0.0911365  0.09991581 0.09770295\n",
            "  0.10013229 0.11148527 0.10710764 0.10434155 0.1018641  0.09397474\n",
            "  0.09782321 0.08721587 0.09760673 0.10032471 0.09294047 0.09250752\n",
            "  0.09753458 0.0927721  0.08851473 0.09017438 0.10027661 0.11191822\n",
            "  0.11720986 0.12647023 0.1270475  0.12440168 0.11244738 0.10010824\n",
            "  0.10535177 0.10739627 0.10487072 0.11316897 0.11165364 0.11201443\n",
            "  0.10984967 0.10835839 0.10773301 0.10831028 0.10306675 0.09741431\n",
            "  0.09469633 0.09508118 0.0857727  0.08543596 0.08420926 0.07372219\n",
            "  0.07437162 0.09007817 0.08365604 0.07629585 0.07165364 0.07475646\n",
            "  0.06258569 0.07395069 0.07129284 0.07605532 0.0738184  0.08093806\n",
            "  0.08473842 0.08279014 0.07261575 0.0713169 ]]\n",
            "9 day output [[0.08856191]]\n",
            "10 day input [[0.05943476 0.06316296 0.05017438 0.06008419 0.044546   0.04432952\n",
            "  0.04834636 0.05919423 0.06900782 0.06819002 0.06248948 0.06164762\n",
            "  0.07011425 0.06944077 0.06956103 0.07206254 0.06987372 0.06660253\n",
            "  0.06806975 0.06494287 0.05654841 0.05972339 0.06179194 0.06313891\n",
            "  0.06905592 0.07788334 0.07874925 0.07841251 0.07675286 0.08036079\n",
            "  0.08187613 0.07562237 0.0791341  0.0771377  0.07562237 0.09029465\n",
            "  0.09012628 0.09226699 0.08734817 0.0911365  0.09991581 0.09770295\n",
            "  0.10013229 0.11148527 0.10710764 0.10434155 0.1018641  0.09397474\n",
            "  0.09782321 0.08721587 0.09760673 0.10032471 0.09294047 0.09250752\n",
            "  0.09753458 0.0927721  0.08851473 0.09017438 0.10027661 0.11191822\n",
            "  0.11720986 0.12647023 0.1270475  0.12440168 0.11244738 0.10010824\n",
            "  0.10535177 0.10739627 0.10487072 0.11316897 0.11165364 0.11201443\n",
            "  0.10984967 0.10835839 0.10773301 0.10831028 0.10306675 0.09741431\n",
            "  0.09469633 0.09508118 0.0857727  0.08543596 0.08420926 0.07372219\n",
            "  0.07437162 0.09007817 0.08365604 0.07629585 0.07165364 0.07475646\n",
            "  0.06258569 0.07395069 0.07129284 0.07605532 0.0738184  0.08093806\n",
            "  0.08473842 0.08279014 0.07261575 0.0713169 ]]\n",
            "10 day output [[0.0894153]]\n",
            "11 day input [[0.05943476 0.06316296 0.05017438 0.06008419 0.044546   0.04432952\n",
            "  0.04834636 0.05919423 0.06900782 0.06819002 0.06248948 0.06164762\n",
            "  0.07011425 0.06944077 0.06956103 0.07206254 0.06987372 0.06660253\n",
            "  0.06806975 0.06494287 0.05654841 0.05972339 0.06179194 0.06313891\n",
            "  0.06905592 0.07788334 0.07874925 0.07841251 0.07675286 0.08036079\n",
            "  0.08187613 0.07562237 0.0791341  0.0771377  0.07562237 0.09029465\n",
            "  0.09012628 0.09226699 0.08734817 0.0911365  0.09991581 0.09770295\n",
            "  0.10013229 0.11148527 0.10710764 0.10434155 0.1018641  0.09397474\n",
            "  0.09782321 0.08721587 0.09760673 0.10032471 0.09294047 0.09250752\n",
            "  0.09753458 0.0927721  0.08851473 0.09017438 0.10027661 0.11191822\n",
            "  0.11720986 0.12647023 0.1270475  0.12440168 0.11244738 0.10010824\n",
            "  0.10535177 0.10739627 0.10487072 0.11316897 0.11165364 0.11201443\n",
            "  0.10984967 0.10835839 0.10773301 0.10831028 0.10306675 0.09741431\n",
            "  0.09469633 0.09508118 0.0857727  0.08543596 0.08420926 0.07372219\n",
            "  0.07437162 0.09007817 0.08365604 0.07629585 0.07165364 0.07475646\n",
            "  0.06258569 0.07395069 0.07129284 0.07605532 0.0738184  0.08093806\n",
            "  0.08473842 0.08279014 0.07261575 0.0713169 ]]\n",
            "11 day output [[0.09026278]]\n",
            "12 day input [[0.05943476 0.06316296 0.05017438 0.06008419 0.044546   0.04432952\n",
            "  0.04834636 0.05919423 0.06900782 0.06819002 0.06248948 0.06164762\n",
            "  0.07011425 0.06944077 0.06956103 0.07206254 0.06987372 0.06660253\n",
            "  0.06806975 0.06494287 0.05654841 0.05972339 0.06179194 0.06313891\n",
            "  0.06905592 0.07788334 0.07874925 0.07841251 0.07675286 0.08036079\n",
            "  0.08187613 0.07562237 0.0791341  0.0771377  0.07562237 0.09029465\n",
            "  0.09012628 0.09226699 0.08734817 0.0911365  0.09991581 0.09770295\n",
            "  0.10013229 0.11148527 0.10710764 0.10434155 0.1018641  0.09397474\n",
            "  0.09782321 0.08721587 0.09760673 0.10032471 0.09294047 0.09250752\n",
            "  0.09753458 0.0927721  0.08851473 0.09017438 0.10027661 0.11191822\n",
            "  0.11720986 0.12647023 0.1270475  0.12440168 0.11244738 0.10010824\n",
            "  0.10535177 0.10739627 0.10487072 0.11316897 0.11165364 0.11201443\n",
            "  0.10984967 0.10835839 0.10773301 0.10831028 0.10306675 0.09741431\n",
            "  0.09469633 0.09508118 0.0857727  0.08543596 0.08420926 0.07372219\n",
            "  0.07437162 0.09007817 0.08365604 0.07629585 0.07165364 0.07475646\n",
            "  0.06258569 0.07395069 0.07129284 0.07605532 0.0738184  0.08093806\n",
            "  0.08473842 0.08279014 0.07261575 0.0713169 ]]\n",
            "12 day output [[0.09110825]]\n",
            "13 day input [[0.05943476 0.06316296 0.05017438 0.06008419 0.044546   0.04432952\n",
            "  0.04834636 0.05919423 0.06900782 0.06819002 0.06248948 0.06164762\n",
            "  0.07011425 0.06944077 0.06956103 0.07206254 0.06987372 0.06660253\n",
            "  0.06806975 0.06494287 0.05654841 0.05972339 0.06179194 0.06313891\n",
            "  0.06905592 0.07788334 0.07874925 0.07841251 0.07675286 0.08036079\n",
            "  0.08187613 0.07562237 0.0791341  0.0771377  0.07562237 0.09029465\n",
            "  0.09012628 0.09226699 0.08734817 0.0911365  0.09991581 0.09770295\n",
            "  0.10013229 0.11148527 0.10710764 0.10434155 0.1018641  0.09397474\n",
            "  0.09782321 0.08721587 0.09760673 0.10032471 0.09294047 0.09250752\n",
            "  0.09753458 0.0927721  0.08851473 0.09017438 0.10027661 0.11191822\n",
            "  0.11720986 0.12647023 0.1270475  0.12440168 0.11244738 0.10010824\n",
            "  0.10535177 0.10739627 0.10487072 0.11316897 0.11165364 0.11201443\n",
            "  0.10984967 0.10835839 0.10773301 0.10831028 0.10306675 0.09741431\n",
            "  0.09469633 0.09508118 0.0857727  0.08543596 0.08420926 0.07372219\n",
            "  0.07437162 0.09007817 0.08365604 0.07629585 0.07165364 0.07475646\n",
            "  0.06258569 0.07395069 0.07129284 0.07605532 0.0738184  0.08093806\n",
            "  0.08473842 0.08279014 0.07261575 0.0713169 ]]\n",
            "13 day output [[0.09195491]]\n",
            "14 day input [[0.05943476 0.06316296 0.05017438 0.06008419 0.044546   0.04432952\n",
            "  0.04834636 0.05919423 0.06900782 0.06819002 0.06248948 0.06164762\n",
            "  0.07011425 0.06944077 0.06956103 0.07206254 0.06987372 0.06660253\n",
            "  0.06806975 0.06494287 0.05654841 0.05972339 0.06179194 0.06313891\n",
            "  0.06905592 0.07788334 0.07874925 0.07841251 0.07675286 0.08036079\n",
            "  0.08187613 0.07562237 0.0791341  0.0771377  0.07562237 0.09029465\n",
            "  0.09012628 0.09226699 0.08734817 0.0911365  0.09991581 0.09770295\n",
            "  0.10013229 0.11148527 0.10710764 0.10434155 0.1018641  0.09397474\n",
            "  0.09782321 0.08721587 0.09760673 0.10032471 0.09294047 0.09250752\n",
            "  0.09753458 0.0927721  0.08851473 0.09017438 0.10027661 0.11191822\n",
            "  0.11720986 0.12647023 0.1270475  0.12440168 0.11244738 0.10010824\n",
            "  0.10535177 0.10739627 0.10487072 0.11316897 0.11165364 0.11201443\n",
            "  0.10984967 0.10835839 0.10773301 0.10831028 0.10306675 0.09741431\n",
            "  0.09469633 0.09508118 0.0857727  0.08543596 0.08420926 0.07372219\n",
            "  0.07437162 0.09007817 0.08365604 0.07629585 0.07165364 0.07475646\n",
            "  0.06258569 0.07395069 0.07129284 0.07605532 0.0738184  0.08093806\n",
            "  0.08473842 0.08279014 0.07261575 0.0713169 ]]\n",
            "14 day output [[0.09280521]]\n",
            "15 day input [[0.05943476 0.06316296 0.05017438 0.06008419 0.044546   0.04432952\n",
            "  0.04834636 0.05919423 0.06900782 0.06819002 0.06248948 0.06164762\n",
            "  0.07011425 0.06944077 0.06956103 0.07206254 0.06987372 0.06660253\n",
            "  0.06806975 0.06494287 0.05654841 0.05972339 0.06179194 0.06313891\n",
            "  0.06905592 0.07788334 0.07874925 0.07841251 0.07675286 0.08036079\n",
            "  0.08187613 0.07562237 0.0791341  0.0771377  0.07562237 0.09029465\n",
            "  0.09012628 0.09226699 0.08734817 0.0911365  0.09991581 0.09770295\n",
            "  0.10013229 0.11148527 0.10710764 0.10434155 0.1018641  0.09397474\n",
            "  0.09782321 0.08721587 0.09760673 0.10032471 0.09294047 0.09250752\n",
            "  0.09753458 0.0927721  0.08851473 0.09017438 0.10027661 0.11191822\n",
            "  0.11720986 0.12647023 0.1270475  0.12440168 0.11244738 0.10010824\n",
            "  0.10535177 0.10739627 0.10487072 0.11316897 0.11165364 0.11201443\n",
            "  0.10984967 0.10835839 0.10773301 0.10831028 0.10306675 0.09741431\n",
            "  0.09469633 0.09508118 0.0857727  0.08543596 0.08420926 0.07372219\n",
            "  0.07437162 0.09007817 0.08365604 0.07629585 0.07165364 0.07475646\n",
            "  0.06258569 0.07395069 0.07129284 0.07605532 0.0738184  0.08093806\n",
            "  0.08473842 0.08279014 0.07261575 0.0713169 ]]\n",
            "15 day output [[0.09366085]]\n",
            "16 day input [[0.05943476 0.06316296 0.05017438 0.06008419 0.044546   0.04432952\n",
            "  0.04834636 0.05919423 0.06900782 0.06819002 0.06248948 0.06164762\n",
            "  0.07011425 0.06944077 0.06956103 0.07206254 0.06987372 0.06660253\n",
            "  0.06806975 0.06494287 0.05654841 0.05972339 0.06179194 0.06313891\n",
            "  0.06905592 0.07788334 0.07874925 0.07841251 0.07675286 0.08036079\n",
            "  0.08187613 0.07562237 0.0791341  0.0771377  0.07562237 0.09029465\n",
            "  0.09012628 0.09226699 0.08734817 0.0911365  0.09991581 0.09770295\n",
            "  0.10013229 0.11148527 0.10710764 0.10434155 0.1018641  0.09397474\n",
            "  0.09782321 0.08721587 0.09760673 0.10032471 0.09294047 0.09250752\n",
            "  0.09753458 0.0927721  0.08851473 0.09017438 0.10027661 0.11191822\n",
            "  0.11720986 0.12647023 0.1270475  0.12440168 0.11244738 0.10010824\n",
            "  0.10535177 0.10739627 0.10487072 0.11316897 0.11165364 0.11201443\n",
            "  0.10984967 0.10835839 0.10773301 0.10831028 0.10306675 0.09741431\n",
            "  0.09469633 0.09508118 0.0857727  0.08543596 0.08420926 0.07372219\n",
            "  0.07437162 0.09007817 0.08365604 0.07629585 0.07165364 0.07475646\n",
            "  0.06258569 0.07395069 0.07129284 0.07605532 0.0738184  0.08093806\n",
            "  0.08473842 0.08279014 0.07261575 0.0713169 ]]\n",
            "16 day output [[0.09452309]]\n",
            "17 day input [[0.05943476 0.06316296 0.05017438 0.06008419 0.044546   0.04432952\n",
            "  0.04834636 0.05919423 0.06900782 0.06819002 0.06248948 0.06164762\n",
            "  0.07011425 0.06944077 0.06956103 0.07206254 0.06987372 0.06660253\n",
            "  0.06806975 0.06494287 0.05654841 0.05972339 0.06179194 0.06313891\n",
            "  0.06905592 0.07788334 0.07874925 0.07841251 0.07675286 0.08036079\n",
            "  0.08187613 0.07562237 0.0791341  0.0771377  0.07562237 0.09029465\n",
            "  0.09012628 0.09226699 0.08734817 0.0911365  0.09991581 0.09770295\n",
            "  0.10013229 0.11148527 0.10710764 0.10434155 0.1018641  0.09397474\n",
            "  0.09782321 0.08721587 0.09760673 0.10032471 0.09294047 0.09250752\n",
            "  0.09753458 0.0927721  0.08851473 0.09017438 0.10027661 0.11191822\n",
            "  0.11720986 0.12647023 0.1270475  0.12440168 0.11244738 0.10010824\n",
            "  0.10535177 0.10739627 0.10487072 0.11316897 0.11165364 0.11201443\n",
            "  0.10984967 0.10835839 0.10773301 0.10831028 0.10306675 0.09741431\n",
            "  0.09469633 0.09508118 0.0857727  0.08543596 0.08420926 0.07372219\n",
            "  0.07437162 0.09007817 0.08365604 0.07629585 0.07165364 0.07475646\n",
            "  0.06258569 0.07395069 0.07129284 0.07605532 0.0738184  0.08093806\n",
            "  0.08473842 0.08279014 0.07261575 0.0713169 ]]\n",
            "17 day output [[0.09539274]]\n",
            "18 day input [[0.05943476 0.06316296 0.05017438 0.06008419 0.044546   0.04432952\n",
            "  0.04834636 0.05919423 0.06900782 0.06819002 0.06248948 0.06164762\n",
            "  0.07011425 0.06944077 0.06956103 0.07206254 0.06987372 0.06660253\n",
            "  0.06806975 0.06494287 0.05654841 0.05972339 0.06179194 0.06313891\n",
            "  0.06905592 0.07788334 0.07874925 0.07841251 0.07675286 0.08036079\n",
            "  0.08187613 0.07562237 0.0791341  0.0771377  0.07562237 0.09029465\n",
            "  0.09012628 0.09226699 0.08734817 0.0911365  0.09991581 0.09770295\n",
            "  0.10013229 0.11148527 0.10710764 0.10434155 0.1018641  0.09397474\n",
            "  0.09782321 0.08721587 0.09760673 0.10032471 0.09294047 0.09250752\n",
            "  0.09753458 0.0927721  0.08851473 0.09017438 0.10027661 0.11191822\n",
            "  0.11720986 0.12647023 0.1270475  0.12440168 0.11244738 0.10010824\n",
            "  0.10535177 0.10739627 0.10487072 0.11316897 0.11165364 0.11201443\n",
            "  0.10984967 0.10835839 0.10773301 0.10831028 0.10306675 0.09741431\n",
            "  0.09469633 0.09508118 0.0857727  0.08543596 0.08420926 0.07372219\n",
            "  0.07437162 0.09007817 0.08365604 0.07629585 0.07165364 0.07475646\n",
            "  0.06258569 0.07395069 0.07129284 0.07605532 0.0738184  0.08093806\n",
            "  0.08473842 0.08279014 0.07261575 0.0713169 ]]\n",
            "18 day output [[0.09627034]]\n",
            "19 day input [[0.05943476 0.06316296 0.05017438 0.06008419 0.044546   0.04432952\n",
            "  0.04834636 0.05919423 0.06900782 0.06819002 0.06248948 0.06164762\n",
            "  0.07011425 0.06944077 0.06956103 0.07206254 0.06987372 0.06660253\n",
            "  0.06806975 0.06494287 0.05654841 0.05972339 0.06179194 0.06313891\n",
            "  0.06905592 0.07788334 0.07874925 0.07841251 0.07675286 0.08036079\n",
            "  0.08187613 0.07562237 0.0791341  0.0771377  0.07562237 0.09029465\n",
            "  0.09012628 0.09226699 0.08734817 0.0911365  0.09991581 0.09770295\n",
            "  0.10013229 0.11148527 0.10710764 0.10434155 0.1018641  0.09397474\n",
            "  0.09782321 0.08721587 0.09760673 0.10032471 0.09294047 0.09250752\n",
            "  0.09753458 0.0927721  0.08851473 0.09017438 0.10027661 0.11191822\n",
            "  0.11720986 0.12647023 0.1270475  0.12440168 0.11244738 0.10010824\n",
            "  0.10535177 0.10739627 0.10487072 0.11316897 0.11165364 0.11201443\n",
            "  0.10984967 0.10835839 0.10773301 0.10831028 0.10306675 0.09741431\n",
            "  0.09469633 0.09508118 0.0857727  0.08543596 0.08420926 0.07372219\n",
            "  0.07437162 0.09007817 0.08365604 0.07629585 0.07165364 0.07475646\n",
            "  0.06258569 0.07395069 0.07129284 0.07605532 0.0738184  0.08093806\n",
            "  0.08473842 0.08279014 0.07261575 0.0713169 ]]\n",
            "19 day output [[0.09715614]]\n",
            "20 day input [[0.05943476 0.06316296 0.05017438 0.06008419 0.044546   0.04432952\n",
            "  0.04834636 0.05919423 0.06900782 0.06819002 0.06248948 0.06164762\n",
            "  0.07011425 0.06944077 0.06956103 0.07206254 0.06987372 0.06660253\n",
            "  0.06806975 0.06494287 0.05654841 0.05972339 0.06179194 0.06313891\n",
            "  0.06905592 0.07788334 0.07874925 0.07841251 0.07675286 0.08036079\n",
            "  0.08187613 0.07562237 0.0791341  0.0771377  0.07562237 0.09029465\n",
            "  0.09012628 0.09226699 0.08734817 0.0911365  0.09991581 0.09770295\n",
            "  0.10013229 0.11148527 0.10710764 0.10434155 0.1018641  0.09397474\n",
            "  0.09782321 0.08721587 0.09760673 0.10032471 0.09294047 0.09250752\n",
            "  0.09753458 0.0927721  0.08851473 0.09017438 0.10027661 0.11191822\n",
            "  0.11720986 0.12647023 0.1270475  0.12440168 0.11244738 0.10010824\n",
            "  0.10535177 0.10739627 0.10487072 0.11316897 0.11165364 0.11201443\n",
            "  0.10984967 0.10835839 0.10773301 0.10831028 0.10306675 0.09741431\n",
            "  0.09469633 0.09508118 0.0857727  0.08543596 0.08420926 0.07372219\n",
            "  0.07437162 0.09007817 0.08365604 0.07629585 0.07165364 0.07475646\n",
            "  0.06258569 0.07395069 0.07129284 0.07605532 0.0738184  0.08093806\n",
            "  0.08473842 0.08279014 0.07261575 0.0713169 ]]\n",
            "20 day output [[0.09805023]]\n",
            "21 day input [[0.05943476 0.06316296 0.05017438 0.06008419 0.044546   0.04432952\n",
            "  0.04834636 0.05919423 0.06900782 0.06819002 0.06248948 0.06164762\n",
            "  0.07011425 0.06944077 0.06956103 0.07206254 0.06987372 0.06660253\n",
            "  0.06806975 0.06494287 0.05654841 0.05972339 0.06179194 0.06313891\n",
            "  0.06905592 0.07788334 0.07874925 0.07841251 0.07675286 0.08036079\n",
            "  0.08187613 0.07562237 0.0791341  0.0771377  0.07562237 0.09029465\n",
            "  0.09012628 0.09226699 0.08734817 0.0911365  0.09991581 0.09770295\n",
            "  0.10013229 0.11148527 0.10710764 0.10434155 0.1018641  0.09397474\n",
            "  0.09782321 0.08721587 0.09760673 0.10032471 0.09294047 0.09250752\n",
            "  0.09753458 0.0927721  0.08851473 0.09017438 0.10027661 0.11191822\n",
            "  0.11720986 0.12647023 0.1270475  0.12440168 0.11244738 0.10010824\n",
            "  0.10535177 0.10739627 0.10487072 0.11316897 0.11165364 0.11201443\n",
            "  0.10984967 0.10835839 0.10773301 0.10831028 0.10306675 0.09741431\n",
            "  0.09469633 0.09508118 0.0857727  0.08543596 0.08420926 0.07372219\n",
            "  0.07437162 0.09007817 0.08365604 0.07629585 0.07165364 0.07475646\n",
            "  0.06258569 0.07395069 0.07129284 0.07605532 0.0738184  0.08093806\n",
            "  0.08473842 0.08279014 0.07261575 0.0713169 ]]\n",
            "21 day output [[0.09895254]]\n",
            "22 day input [[0.05943476 0.06316296 0.05017438 0.06008419 0.044546   0.04432952\n",
            "  0.04834636 0.05919423 0.06900782 0.06819002 0.06248948 0.06164762\n",
            "  0.07011425 0.06944077 0.06956103 0.07206254 0.06987372 0.06660253\n",
            "  0.06806975 0.06494287 0.05654841 0.05972339 0.06179194 0.06313891\n",
            "  0.06905592 0.07788334 0.07874925 0.07841251 0.07675286 0.08036079\n",
            "  0.08187613 0.07562237 0.0791341  0.0771377  0.07562237 0.09029465\n",
            "  0.09012628 0.09226699 0.08734817 0.0911365  0.09991581 0.09770295\n",
            "  0.10013229 0.11148527 0.10710764 0.10434155 0.1018641  0.09397474\n",
            "  0.09782321 0.08721587 0.09760673 0.10032471 0.09294047 0.09250752\n",
            "  0.09753458 0.0927721  0.08851473 0.09017438 0.10027661 0.11191822\n",
            "  0.11720986 0.12647023 0.1270475  0.12440168 0.11244738 0.10010824\n",
            "  0.10535177 0.10739627 0.10487072 0.11316897 0.11165364 0.11201443\n",
            "  0.10984967 0.10835839 0.10773301 0.10831028 0.10306675 0.09741431\n",
            "  0.09469633 0.09508118 0.0857727  0.08543596 0.08420926 0.07372219\n",
            "  0.07437162 0.09007817 0.08365604 0.07629585 0.07165364 0.07475646\n",
            "  0.06258569 0.07395069 0.07129284 0.07605532 0.0738184  0.08093806\n",
            "  0.08473842 0.08279014 0.07261575 0.0713169 ]]\n",
            "22 day output [[0.0998629]]\n",
            "23 day input [[0.05943476 0.06316296 0.05017438 0.06008419 0.044546   0.04432952\n",
            "  0.04834636 0.05919423 0.06900782 0.06819002 0.06248948 0.06164762\n",
            "  0.07011425 0.06944077 0.06956103 0.07206254 0.06987372 0.06660253\n",
            "  0.06806975 0.06494287 0.05654841 0.05972339 0.06179194 0.06313891\n",
            "  0.06905592 0.07788334 0.07874925 0.07841251 0.07675286 0.08036079\n",
            "  0.08187613 0.07562237 0.0791341  0.0771377  0.07562237 0.09029465\n",
            "  0.09012628 0.09226699 0.08734817 0.0911365  0.09991581 0.09770295\n",
            "  0.10013229 0.11148527 0.10710764 0.10434155 0.1018641  0.09397474\n",
            "  0.09782321 0.08721587 0.09760673 0.10032471 0.09294047 0.09250752\n",
            "  0.09753458 0.0927721  0.08851473 0.09017438 0.10027661 0.11191822\n",
            "  0.11720986 0.12647023 0.1270475  0.12440168 0.11244738 0.10010824\n",
            "  0.10535177 0.10739627 0.10487072 0.11316897 0.11165364 0.11201443\n",
            "  0.10984967 0.10835839 0.10773301 0.10831028 0.10306675 0.09741431\n",
            "  0.09469633 0.09508118 0.0857727  0.08543596 0.08420926 0.07372219\n",
            "  0.07437162 0.09007817 0.08365604 0.07629585 0.07165364 0.07475646\n",
            "  0.06258569 0.07395069 0.07129284 0.07605532 0.0738184  0.08093806\n",
            "  0.08473842 0.08279014 0.07261575 0.0713169 ]]\n",
            "23 day output [[0.10078102]]\n",
            "24 day input [[0.05943476 0.06316296 0.05017438 0.06008419 0.044546   0.04432952\n",
            "  0.04834636 0.05919423 0.06900782 0.06819002 0.06248948 0.06164762\n",
            "  0.07011425 0.06944077 0.06956103 0.07206254 0.06987372 0.06660253\n",
            "  0.06806975 0.06494287 0.05654841 0.05972339 0.06179194 0.06313891\n",
            "  0.06905592 0.07788334 0.07874925 0.07841251 0.07675286 0.08036079\n",
            "  0.08187613 0.07562237 0.0791341  0.0771377  0.07562237 0.09029465\n",
            "  0.09012628 0.09226699 0.08734817 0.0911365  0.09991581 0.09770295\n",
            "  0.10013229 0.11148527 0.10710764 0.10434155 0.1018641  0.09397474\n",
            "  0.09782321 0.08721587 0.09760673 0.10032471 0.09294047 0.09250752\n",
            "  0.09753458 0.0927721  0.08851473 0.09017438 0.10027661 0.11191822\n",
            "  0.11720986 0.12647023 0.1270475  0.12440168 0.11244738 0.10010824\n",
            "  0.10535177 0.10739627 0.10487072 0.11316897 0.11165364 0.11201443\n",
            "  0.10984967 0.10835839 0.10773301 0.10831028 0.10306675 0.09741431\n",
            "  0.09469633 0.09508118 0.0857727  0.08543596 0.08420926 0.07372219\n",
            "  0.07437162 0.09007817 0.08365604 0.07629585 0.07165364 0.07475646\n",
            "  0.06258569 0.07395069 0.07129284 0.07605532 0.0738184  0.08093806\n",
            "  0.08473842 0.08279014 0.07261575 0.0713169 ]]\n",
            "24 day output [[0.10170661]]\n",
            "25 day input [[0.05943476 0.06316296 0.05017438 0.06008419 0.044546   0.04432952\n",
            "  0.04834636 0.05919423 0.06900782 0.06819002 0.06248948 0.06164762\n",
            "  0.07011425 0.06944077 0.06956103 0.07206254 0.06987372 0.06660253\n",
            "  0.06806975 0.06494287 0.05654841 0.05972339 0.06179194 0.06313891\n",
            "  0.06905592 0.07788334 0.07874925 0.07841251 0.07675286 0.08036079\n",
            "  0.08187613 0.07562237 0.0791341  0.0771377  0.07562237 0.09029465\n",
            "  0.09012628 0.09226699 0.08734817 0.0911365  0.09991581 0.09770295\n",
            "  0.10013229 0.11148527 0.10710764 0.10434155 0.1018641  0.09397474\n",
            "  0.09782321 0.08721587 0.09760673 0.10032471 0.09294047 0.09250752\n",
            "  0.09753458 0.0927721  0.08851473 0.09017438 0.10027661 0.11191822\n",
            "  0.11720986 0.12647023 0.1270475  0.12440168 0.11244738 0.10010824\n",
            "  0.10535177 0.10739627 0.10487072 0.11316897 0.11165364 0.11201443\n",
            "  0.10984967 0.10835839 0.10773301 0.10831028 0.10306675 0.09741431\n",
            "  0.09469633 0.09508118 0.0857727  0.08543596 0.08420926 0.07372219\n",
            "  0.07437162 0.09007817 0.08365604 0.07629585 0.07165364 0.07475646\n",
            "  0.06258569 0.07395069 0.07129284 0.07605532 0.0738184  0.08093806\n",
            "  0.08473842 0.08279014 0.07261575 0.0713169 ]]\n",
            "25 day output [[0.10263927]]\n",
            "26 day input [[0.05943476 0.06316296 0.05017438 0.06008419 0.044546   0.04432952\n",
            "  0.04834636 0.05919423 0.06900782 0.06819002 0.06248948 0.06164762\n",
            "  0.07011425 0.06944077 0.06956103 0.07206254 0.06987372 0.06660253\n",
            "  0.06806975 0.06494287 0.05654841 0.05972339 0.06179194 0.06313891\n",
            "  0.06905592 0.07788334 0.07874925 0.07841251 0.07675286 0.08036079\n",
            "  0.08187613 0.07562237 0.0791341  0.0771377  0.07562237 0.09029465\n",
            "  0.09012628 0.09226699 0.08734817 0.0911365  0.09991581 0.09770295\n",
            "  0.10013229 0.11148527 0.10710764 0.10434155 0.1018641  0.09397474\n",
            "  0.09782321 0.08721587 0.09760673 0.10032471 0.09294047 0.09250752\n",
            "  0.09753458 0.0927721  0.08851473 0.09017438 0.10027661 0.11191822\n",
            "  0.11720986 0.12647023 0.1270475  0.12440168 0.11244738 0.10010824\n",
            "  0.10535177 0.10739627 0.10487072 0.11316897 0.11165364 0.11201443\n",
            "  0.10984967 0.10835839 0.10773301 0.10831028 0.10306675 0.09741431\n",
            "  0.09469633 0.09508118 0.0857727  0.08543596 0.08420926 0.07372219\n",
            "  0.07437162 0.09007817 0.08365604 0.07629585 0.07165364 0.07475646\n",
            "  0.06258569 0.07395069 0.07129284 0.07605532 0.0738184  0.08093806\n",
            "  0.08473842 0.08279014 0.07261575 0.0713169 ]]\n",
            "26 day output [[0.10357866]]\n",
            "27 day input [[0.05943476 0.06316296 0.05017438 0.06008419 0.044546   0.04432952\n",
            "  0.04834636 0.05919423 0.06900782 0.06819002 0.06248948 0.06164762\n",
            "  0.07011425 0.06944077 0.06956103 0.07206254 0.06987372 0.06660253\n",
            "  0.06806975 0.06494287 0.05654841 0.05972339 0.06179194 0.06313891\n",
            "  0.06905592 0.07788334 0.07874925 0.07841251 0.07675286 0.08036079\n",
            "  0.08187613 0.07562237 0.0791341  0.0771377  0.07562237 0.09029465\n",
            "  0.09012628 0.09226699 0.08734817 0.0911365  0.09991581 0.09770295\n",
            "  0.10013229 0.11148527 0.10710764 0.10434155 0.1018641  0.09397474\n",
            "  0.09782321 0.08721587 0.09760673 0.10032471 0.09294047 0.09250752\n",
            "  0.09753458 0.0927721  0.08851473 0.09017438 0.10027661 0.11191822\n",
            "  0.11720986 0.12647023 0.1270475  0.12440168 0.11244738 0.10010824\n",
            "  0.10535177 0.10739627 0.10487072 0.11316897 0.11165364 0.11201443\n",
            "  0.10984967 0.10835839 0.10773301 0.10831028 0.10306675 0.09741431\n",
            "  0.09469633 0.09508118 0.0857727  0.08543596 0.08420926 0.07372219\n",
            "  0.07437162 0.09007817 0.08365604 0.07629585 0.07165364 0.07475646\n",
            "  0.06258569 0.07395069 0.07129284 0.07605532 0.0738184  0.08093806\n",
            "  0.08473842 0.08279014 0.07261575 0.0713169 ]]\n",
            "27 day output [[0.10452443]]\n",
            "28 day input [[0.05943476 0.06316296 0.05017438 0.06008419 0.044546   0.04432952\n",
            "  0.04834636 0.05919423 0.06900782 0.06819002 0.06248948 0.06164762\n",
            "  0.07011425 0.06944077 0.06956103 0.07206254 0.06987372 0.06660253\n",
            "  0.06806975 0.06494287 0.05654841 0.05972339 0.06179194 0.06313891\n",
            "  0.06905592 0.07788334 0.07874925 0.07841251 0.07675286 0.08036079\n",
            "  0.08187613 0.07562237 0.0791341  0.0771377  0.07562237 0.09029465\n",
            "  0.09012628 0.09226699 0.08734817 0.0911365  0.09991581 0.09770295\n",
            "  0.10013229 0.11148527 0.10710764 0.10434155 0.1018641  0.09397474\n",
            "  0.09782321 0.08721587 0.09760673 0.10032471 0.09294047 0.09250752\n",
            "  0.09753458 0.0927721  0.08851473 0.09017438 0.10027661 0.11191822\n",
            "  0.11720986 0.12647023 0.1270475  0.12440168 0.11244738 0.10010824\n",
            "  0.10535177 0.10739627 0.10487072 0.11316897 0.11165364 0.11201443\n",
            "  0.10984967 0.10835839 0.10773301 0.10831028 0.10306675 0.09741431\n",
            "  0.09469633 0.09508118 0.0857727  0.08543596 0.08420926 0.07372219\n",
            "  0.07437162 0.09007817 0.08365604 0.07629585 0.07165364 0.07475646\n",
            "  0.06258569 0.07395069 0.07129284 0.07605532 0.0738184  0.08093806\n",
            "  0.08473842 0.08279014 0.07261575 0.0713169 ]]\n",
            "28 day output [[0.10547628]]\n",
            "29 day input [[0.05943476 0.06316296 0.05017438 0.06008419 0.044546   0.04432952\n",
            "  0.04834636 0.05919423 0.06900782 0.06819002 0.06248948 0.06164762\n",
            "  0.07011425 0.06944077 0.06956103 0.07206254 0.06987372 0.06660253\n",
            "  0.06806975 0.06494287 0.05654841 0.05972339 0.06179194 0.06313891\n",
            "  0.06905592 0.07788334 0.07874925 0.07841251 0.07675286 0.08036079\n",
            "  0.08187613 0.07562237 0.0791341  0.0771377  0.07562237 0.09029465\n",
            "  0.09012628 0.09226699 0.08734817 0.0911365  0.09991581 0.09770295\n",
            "  0.10013229 0.11148527 0.10710764 0.10434155 0.1018641  0.09397474\n",
            "  0.09782321 0.08721587 0.09760673 0.10032471 0.09294047 0.09250752\n",
            "  0.09753458 0.0927721  0.08851473 0.09017438 0.10027661 0.11191822\n",
            "  0.11720986 0.12647023 0.1270475  0.12440168 0.11244738 0.10010824\n",
            "  0.10535177 0.10739627 0.10487072 0.11316897 0.11165364 0.11201443\n",
            "  0.10984967 0.10835839 0.10773301 0.10831028 0.10306675 0.09741431\n",
            "  0.09469633 0.09508118 0.0857727  0.08543596 0.08420926 0.07372219\n",
            "  0.07437162 0.09007817 0.08365604 0.07629585 0.07165364 0.07475646\n",
            "  0.06258569 0.07395069 0.07129284 0.07605532 0.0738184  0.08093806\n",
            "  0.08473842 0.08279014 0.07261575 0.0713169 ]]\n",
            "29 day output [[0.10643391]]\n",
            "[[0.08280092477798462], [0.08278857171535492], [0.08302170783281326], [0.08353252708911896], [0.08424481004476547], [0.0850699320435524], [0.085942342877388], [0.08682422339916229], [0.08769881725311279], [0.08856190741062164], [0.0894152969121933], [0.09026277810335159], [0.09110824763774872], [0.09195490926504135], [0.09280520677566528], [0.0936608538031578], [0.09452308714389801], [0.09539274126291275], [0.09627033770084381], [0.09715613722801208], [0.09805022925138474], [0.09895253926515579], [0.09986290335655212], [0.10078102350234985], [0.1017066091299057], [0.10263926535844803], [0.10357866436243057], [0.10452442616224289], [0.1054762750864029], [0.1064339131116867]]\n"
          ],
          "name": "stdout"
        }
      ]
    },
    {
      "cell_type": "code",
      "metadata": {
        "id": "L2wfwK0Bvj9k"
      },
      "source": [
        "day_new=np.arange(1,101)\n",
        "day_pred=np.arange(101,131)"
      ],
      "execution_count": null,
      "outputs": []
    },
    {
      "cell_type": "code",
      "metadata": {
        "colab": {
          "base_uri": "https://localhost:8080/"
        },
        "id": "9kprRJ-rv2U8",
        "outputId": "08fa189b-d18c-4509-81d3-5a6c696c8873"
      },
      "source": [
        "len(df1)"
      ],
      "execution_count": null,
      "outputs": [
        {
          "output_type": "execute_result",
          "data": {
            "text/plain": [
              "1259"
            ]
          },
          "metadata": {
            "tags": []
          },
          "execution_count": 37
        }
      ]
    },
    {
      "cell_type": "code",
      "metadata": {
        "id": "fXOJxi39v3xd"
      },
      "source": [
        "df3=df1.tolist()\n",
        "df3.extend(lst_output)"
      ],
      "execution_count": null,
      "outputs": []
    },
    {
      "cell_type": "code",
      "metadata": {
        "colab": {
          "base_uri": "https://localhost:8080/",
          "height": 282
        },
        "id": "uBpi8ypPwGSG",
        "outputId": "672a2efe-0344-4c7b-af76-8032e023f856"
      },
      "source": [
        "plt.plot(day_new,scaler.inverse_transform(df1[1159:]))\n",
        "plt.plot(day_pred,scaler.inverse_transform(lst_output))"
      ],
      "execution_count": null,
      "outputs": [
        {
          "output_type": "execute_result",
          "data": {
            "text/plain": [
              "[<matplotlib.lines.Line2D at 0x7f0a1028d1d0>]"
            ]
          },
          "metadata": {
            "tags": []
          },
          "execution_count": 40
        },
        {
          "output_type": "display_data",
          "data": {
            "image/png": "[encoded data removed]",
            "text/plain": [
              "<Figure size 432x288 with 1 Axes>"
            ]
          },
          "metadata": {
            "tags": [],
            "needs_background": "light"
          }
        }
      ]
    },
    {
      "cell_type": "code",
      "metadata": {
        "id": "jBwQOWGuwlVE"
      },
      "source": [
        ""
      ],
      "execution_count": null,
      "outputs": []
    }
  ]
}